{
 "cells": [
  {
   "cell_type": "markdown",
   "metadata": {},
   "source": [
    "## Optimization"
   ]
  },
  {
   "cell_type": "markdown",
   "metadata": {},
   "source": [
    "This notebook introduces our work regarding optimizing the SGHMC sampling using `Numba` and `Cython`."
   ]
  },
  {
   "cell_type": "code",
   "execution_count": 51,
   "metadata": {},
   "outputs": [],
   "source": [
    "import numpy as np\n",
    "import numpy.linalg as la\n",
    "import cython\n",
    "import timeit\n",
    "import warnings\n",
    "warnings.filterwarnings('ignore')"
   ]
  },
  {
   "cell_type": "markdown",
   "metadata": {},
   "source": [
    "### Plain Python Implementation"
   ]
  },
  {
   "cell_type": "code",
   "execution_count": 32,
   "metadata": {},
   "outputs": [],
   "source": [
    "def sghmc(theta0, gradU, V, alpha = 0.1, epoch = 500, step = 1, lr = 0.01):\n",
    "    '''Simpler sghmc sampling'''\n",
    "    \n",
    "    np.random.seed(1234)\n",
    "    \n",
    "    p = theta0.shape[0]\n",
    "    beta = 0.5 * lr * V\n",
    "    disp = la.cholesky(2 * lr * (alpha * np.eye(p) - 2 * beta))\n",
    "    \n",
    "    samples = np.zeros((epoch, p))\n",
    "    samples[0] = theta0\n",
    "    \n",
    "    for i in range(epoch - 1):\n",
    "        theta = samples[i]\n",
    "        r = np.random.randn(p)\n",
    "        \n",
    "        for j in range(step):\n",
    "            \n",
    "            theta += lr * r\n",
    "            r += -lr * gradU(theta) - alpha * r + disp @ np.random.randn(p)\n",
    "        \n",
    "        samples[i + 1] = theta\n",
    "    \n",
    "    return samples"
   ]
  },
  {
   "cell_type": "code",
   "execution_count": 33,
   "metadata": {},
   "outputs": [],
   "source": [
    "# set the parameters\n",
    "\n",
    "U = lambda x: -2 * x**2 + x**4\n",
    "gradU =  lambda x: -4 * x + 4 * x**3 + 2 * np.random.randn()\n",
    "theta0 = np.zeros((2))\n",
    "V = 4 * np.eye((2))"
   ]
  },
  {
   "cell_type": "markdown",
   "metadata": {},
   "source": [
    "### Profiling part"
   ]
  },
  {
   "cell_type": "code",
   "execution_count": 34,
   "metadata": {},
   "outputs": [
    {
     "name": "stdout",
     "output_type": "stream",
     "text": [
      " \n",
      "*** Profile stats marshalled to file 'sghmc.prof'. \n"
     ]
    }
   ],
   "source": [
    "%prun -q -D sghmc.prof sghmc(theta0, gradU, V)"
   ]
  },
  {
   "cell_type": "code",
   "execution_count": 35,
   "metadata": {},
   "outputs": [
    {
     "name": "stdout",
     "output_type": "stream",
     "text": [
      "Sun Apr 25 00:52:30 2021    sghmc.prof\n",
      "\n",
      "         2025 function calls in 0.027 seconds\n",
      "\n",
      "   Random listing order was used\n",
      "\n",
      "   ncalls  tottime  percall  cumtime  percall filename:lineno(function)\n",
      "        1    0.000    0.000    0.000    0.000 {method 'get' of 'dict' objects}\n",
      "        1    0.000    0.000    0.027    0.027 {built-in method builtins.exec}\n",
      "        1    0.000    0.000    0.000    0.000 {built-in method builtins.getattr}\n",
      "        3    0.000    0.000    0.000    0.000 {built-in method builtins.issubclass}\n",
      "        1    0.013    0.013    0.027    0.027 <ipython-input-32-ee9660aead69>:1(sghmc)\n",
      "        1    0.000    0.000    0.027    0.027 <string>:1(<module>)\n",
      "      499    0.008    0.000    0.009    0.000 <ipython-input-33-4658113d012f>:4(<lambda>)\n",
      "        1    0.000    0.000    0.000    0.000 {method 'seed' of 'numpy.random.mtrand.RandomState' objects}\n",
      "     1497    0.006    0.000    0.006    0.000 {method 'randn' of 'numpy.random.mtrand.RandomState' objects}\n",
      "        1    0.000    0.000    0.000    0.000 {method '__array_prepare__' of 'numpy.ndarray' objects}\n",
      "        1    0.000    0.000    0.000    0.000 {method 'astype' of 'numpy.ndarray' objects}\n",
      "        1    0.000    0.000    0.000    0.000 {built-in method numpy.array}\n",
      "        2    0.000    0.000    0.000    0.000 {built-in method numpy.zeros}\n",
      "        1    0.000    0.000    0.000    0.000 {built-in method numpy.core._multiarray_umath.implement_array_function}\n",
      "        1    0.000    0.000    0.000    0.000 /home/boyaoli/.local/lib/python3.6/site-packages/numpy/linalg/linalg.py:111(get_linalg_error_extobj)\n",
      "        1    0.000    0.000    0.000    0.000 /home/boyaoli/.local/lib/python3.6/site-packages/numpy/linalg/linalg.py:116(_makearray)\n",
      "        2    0.000    0.000    0.000    0.000 /home/boyaoli/.local/lib/python3.6/site-packages/numpy/linalg/linalg.py:121(isComplexType)\n",
      "        1    0.000    0.000    0.000    0.000 /home/boyaoli/.local/lib/python3.6/site-packages/numpy/linalg/linalg.py:134(_realType)\n",
      "        1    0.000    0.000    0.000    0.000 /home/boyaoli/.local/lib/python3.6/site-packages/numpy/linalg/linalg.py:144(_commonType)\n",
      "        1    0.000    0.000    0.000    0.000 /home/boyaoli/.local/lib/python3.6/site-packages/numpy/linalg/linalg.py:203(_assert_stacked_2d)\n",
      "        1    0.000    0.000    0.000    0.000 /home/boyaoli/.local/lib/python3.6/site-packages/numpy/linalg/linalg.py:209(_assert_stacked_square)\n",
      "        1    0.000    0.000    0.000    0.000 /home/boyaoli/.local/lib/python3.6/site-packages/numpy/linalg/linalg.py:478(_unary_dispatcher)\n",
      "        1    0.000    0.000    0.000    0.000 /home/boyaoli/.local/lib/python3.6/site-packages/numpy/linalg/linalg.py:674(cholesky)\n",
      "        1    0.000    0.000    0.000    0.000 /home/boyaoli/.local/lib/python3.6/site-packages/numpy/lib/twodim_base.py:154(eye)\n",
      "        1    0.000    0.000    0.000    0.000 <__array_function__ internals>:2(cholesky)\n",
      "        1    0.000    0.000    0.000    0.000 /home/boyaoli/.local/lib/python3.6/site-packages/numpy/core/_asarray.py:16(asarray)\n",
      "        1    0.000    0.000    0.000    0.000 {method 'disable' of '_lsprof.Profiler' objects}\n",
      "\n",
      "\n"
     ]
    }
   ],
   "source": [
    "import pstats\n",
    "\n",
    "p = pstats.Stats('sghmc.prof')\n",
    "p.print_stats()\n",
    "pass"
   ]
  },
  {
   "cell_type": "markdown",
   "metadata": {},
   "source": [
    "From the profiling result we can see that `np.random.randn` and `lambda` function are called the most times during running the sghmc function. This could help us to find which parts to focus on and then optimize. Before using `numba` and `cython` to optimize, we need to store the sampling result and its cost time."
   ]
  },
  {
   "cell_type": "code",
   "execution_count": 36,
   "metadata": {},
   "outputs": [],
   "source": [
    "samples = sghmc(theta0, gradU, V)"
   ]
  },
  {
   "cell_type": "code",
   "execution_count": 37,
   "metadata": {},
   "outputs": [
    {
     "name": "stdout",
     "output_type": "stream",
     "text": [
      "12.6 ms ± 1.81 ms per loop (mean ± std. dev. of 7 runs, 100 loops each)\n"
     ]
    }
   ],
   "source": [
    "%timeit sghmc(theta0, gradU, V)"
   ]
  },
  {
   "cell_type": "markdown",
   "metadata": {},
   "source": [
    "### Numba"
   ]
  },
  {
   "cell_type": "markdown",
   "metadata": {},
   "source": [
    "We use `numba.jit` as a function decorator to speed up the `sghmc` function "
   ]
  },
  {
   "cell_type": "code",
   "execution_count": 48,
   "metadata": {},
   "outputs": [],
   "source": [
    "import numba\n",
    "from numba import jit"
   ]
  },
  {
   "cell_type": "code",
   "execution_count": 52,
   "metadata": {},
   "outputs": [],
   "source": [
    "@jit\n",
    "def sghmc_numba(theta0, gradU, V, alpha = 0.1, epoch = 500, step = 1, lr = 0.01):\n",
    "    '''sghmc sampling with numba'''\n",
    "    \n",
    "    np.random.seed(1234)\n",
    "    \n",
    "    p = theta0.shape[0]\n",
    "    beta = 0.5 * lr * V\n",
    "    disp = la.cholesky(2 * lr * (alpha * np.eye(p) - 2 * beta))\n",
    "    \n",
    "    samples = np.zeros((epoch, p))\n",
    "    samples[0] = theta0\n",
    "    \n",
    "    for i in range(epoch - 1):\n",
    "        theta = samples[i]\n",
    "        r = np.random.randn(p)\n",
    "        \n",
    "        for j in range(step):\n",
    "            \n",
    "            theta += lr * r\n",
    "            r += -lr * gradU(theta) - alpha * r + disp @ np.random.randn(p)\n",
    "        \n",
    "        samples[i + 1] = theta\n",
    "    \n",
    "    return samples"
   ]
  },
  {
   "cell_type": "code",
   "execution_count": 53,
   "metadata": {},
   "outputs": [
    {
     "name": "stdout",
     "output_type": "stream",
     "text": [
      "True\n"
     ]
    }
   ],
   "source": [
    "print(np.allclose(samples, sghmc_numba(theta0, gradU, V)))"
   ]
  },
  {
   "cell_type": "code",
   "execution_count": 54,
   "metadata": {},
   "outputs": [
    {
     "name": "stdout",
     "output_type": "stream",
     "text": [
      "12.6 ms ± 241 µs per loop (mean ± std. dev. of 7 runs, 100 loops each)\n"
     ]
    }
   ],
   "source": [
    "%timeit sghmc_numba(theta0, gradU, V)"
   ]
  },
  {
   "cell_type": "code",
   "execution_count": null,
   "metadata": {},
   "outputs": [],
   "source": []
  }
 ],
 "metadata": {
  "kernelspec": {
   "display_name": "Python 3",
   "language": "python",
   "name": "python3"
  },
  "language_info": {
   "codemirror_mode": {
    "name": "ipython",
    "version": 3
   },
   "file_extension": ".py",
   "mimetype": "text/x-python",
   "name": "python",
   "nbconvert_exporter": "python",
   "pygments_lexer": "ipython3",
   "version": "3.6.9"
  }
 },
 "nbformat": 4,
 "nbformat_minor": 2
}
